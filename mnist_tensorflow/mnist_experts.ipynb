{
 "cells": [
  {
   "cell_type": "markdown",
   "metadata": {},
   "source": [
    "# TensowFlow のチュートリアル\n",
    "## For Expert\n",
    "参考\n",
    "* http://qiita.com/haminiku/items/36982ae65a770565458d\n",
    "* http://www.tensorflow.org/tutorials/mnist/beginners/index.html\n",
    " * official\n",
    "* http://qiita.com/KojiOhki/items/64a2ee54214b01a411c7\n",
    " * 公式ドキュメントを訳してくれている"
   ]
  },
  {
   "cell_type": "markdown",
   "metadata": {},
   "source": [
    "## 概要\n",
    "* 畳込みニューラルネットでDeepLearningする\n",
    "* 対象はMNIST手書き文字の認識\n",
    "\n",
    "## 事前準備\n",
    "* 事前にMNISTのデータを取得するためのclassを作っておく必要がある\n",
    " * input_data.py\n",
    "\n",
    "## MNIST手書き文字認識の実装\n",
    "### 準備\n",
    "#### 必要パッケージのインポート"
   ]
  },
  {
   "cell_type": "code",
   "execution_count": 1,
   "metadata": {
    "collapsed": true
   },
   "outputs": [],
   "source": [
    "from __future__ import absolute_import, unicode_literals\n",
    "import input_data\n",
    "import tensorflow as tf\n",
    "\n",
    "## 学習結果の描画に使う\n",
    "import numpy as np\n",
    "import matplotlib.pyplot as plt\n",
    "%matplotlib inline"
   ]
  },
  {
   "cell_type": "markdown",
   "metadata": {},
   "source": [
    "#### データのセット\n",
    "* input_dataパッケージを使うと、未ダウンロードの場合は自動的にダウンロードして、オブジェクト作ってくれる（ちょっと時間かかる）\n",
    "* ダウンロード済みの場合は、メモリにロードしてオブジェクト作るだけ（速い）"
   ]
  },
  {
   "cell_type": "code",
   "execution_count": 2,
   "metadata": {
    "collapsed": false
   },
   "outputs": [
    {
     "name": "stdout",
     "output_type": "stream",
     "text": [
      "Extracting MNIST_data/train-images-idx3-ubyte.gz\n",
      "Extracting MNIST_data/train-labels-idx1-ubyte.gz\n",
      "Extracting MNIST_data/t10k-images-idx3-ubyte.gz\n",
      "Extracting MNIST_data/t10k-labels-idx1-ubyte.gz\n"
     ]
    }
   ],
   "source": [
    "mnist = input_data.read_data_sets(\"MNIST_data/\", one_hot=True)"
   ]
  },
  {
   "cell_type": "markdown",
   "metadata": {},
   "source": [
    "#### セッションクラスのインスタンスを生成\n",
    "* TensorFlowではバックでC++使って高速に計算させる。\n",
    "* バッグエンドとのやり取りするために、「セッション」を作成する\n",
    "* InteractiveSessionクラスを使う。\n",
    " * computation graphを実行する間に、computation graphを作れる? 良さがよくわからん。\n",
    " * computation graphの項目を確認した方が良いかも"
   ]
  },
  {
   "cell_type": "code",
   "execution_count": 3,
   "metadata": {
    "collapsed": true
   },
   "outputs": [],
   "source": [
    "sess = tf.InteractiveSession()\n"
   ]
  },
  {
   "cell_type": "markdown",
   "metadata": {},
   "source": [
    "#### Placeholders"
   ]
  },
  {
   "cell_type": "code",
   "execution_count": 4,
   "metadata": {
    "collapsed": true
   },
   "outputs": [],
   "source": [
    "x = tf.placeholder(\"float\", shape=[None, 784])\n",
    "y_ = tf.placeholder(\"float\", shape=[None, 10])"
   ]
  },
  {
   "cell_type": "markdown",
   "metadata": {},
   "source": [
    "### Build a Multilayer Convolutional Network\n",
    "* Beginner編で単層のソフトマックス回帰を作った結果、精度は91%くらいだった\n",
    " * これは明らかに悪い。MNISTの文字認識なら通常99%くらいは達成しておきたい。ということらしい。\n",
    "* そこで、このチュートリアルでは、シンプルな畳込みニューラルネットを使って文字認識させてみる\n",
    "\n",
    "#### 重みを初期化する\n",
    "* DeepLearningはNNをDeepにするのでたくさんの重みが必要になる\n",
    "* 初期値は0にするのではなくて、小さいノイズを載せた方が良いって書いてある。\n",
    "* バイアスについても、活性化関数にReluを使うので正のノイズを加えるべきだって書いてある。\n",
    " * 勾配がいきなり0にならないようにみたいなことが書いてあるけど、あんまりよくわかっていない"
   ]
  },
  {
   "cell_type": "code",
   "execution_count": 5,
   "metadata": {
    "collapsed": true
   },
   "outputs": [],
   "source": [
    "def weight_variable(shape):\n",
    "    initial = tf.truncated_normal(shape, stddev=0.1)\n",
    "    return tf.Variable(initial)\n",
    "\n",
    "def bias_variable(shape):\n",
    "    initial = tf.constant(0.1, shape=shape)\n",
    "    return tf.Variable(initial)\n"
   ]
  },
  {
   "cell_type": "markdown",
   "metadata": {},
   "source": [
    "#### Convolution and Pooling\n",
    "* 畳込み層：入力と出力が同じになるように0でパディングする(足りない部分に0入れるってことでいい?)\n",
    "* プーリング層：2×2の古典的なプーリング設定とする\n",
    " * プーリング層 → 畳込み画像に対してプーリング演算する。\n",
    " * 2×2のピクセルの最大値をとって一つのピクセルに変換する。これをすることで特徴量の位置変化によく追従できるらしい\n",
    " * プーリングには、Max poolingとAverage poolingってのはあるらしい。↑はmax pooling最大値ではなく、平均をとるのがaverage pooling"
   ]
  },
  {
   "cell_type": "code",
   "execution_count": 6,
   "metadata": {
    "collapsed": true
   },
   "outputs": [],
   "source": [
    "def conv2d(x, W):\n",
    "    return tf.nn.conv2d(x, W, strides=[1, 1, 1, 1], padding='SAME')\n",
    "\n",
    "def max_pool_2x2(x):\n",
    "    return tf.nn.max_pool(x, ksize=[1, 2, 2, 1], strides=[1, 2, 2, 1], padding='SAME')\n"
   ]
  },
  {
   "cell_type": "markdown",
   "metadata": {},
   "source": [
    "#### First Convolutional Layer 第1層の畳込み層の定義\n",
    "* 畳込みのパッチサイズは5×5にする\n",
    "* 入力チャネルは、グレースケール画像で1チャネル\n",
    "* 出力チャネルは32\n",
    " * この辺りが良くわかってないので、調べる。畳込みニューラルネットの基本。\n"
   ]
  },
  {
   "cell_type": "code",
   "execution_count": 7,
   "metadata": {
    "collapsed": true
   },
   "outputs": [],
   "source": [
    "W_conv1 = weight_variable([5, 5, 1, 32])\n",
    "b_conv1 = bias_variable([32])"
   ]
  },
  {
   "cell_type": "markdown",
   "metadata": {},
   "source": [
    "* ↑の畳込み層を実装するために、入力データxを4次元テンソルに変換する\n",
    " * [-1, image_width, image_height, color_channel]"
   ]
  },
  {
   "cell_type": "code",
   "execution_count": 8,
   "metadata": {
    "collapsed": false
   },
   "outputs": [],
   "source": [
    "x_image = tf.reshape(x, [-1,28,28,1])"
   ]
  },
  {
   "cell_type": "markdown",
   "metadata": {},
   "source": [
    "* 畳込み層とプーリング層の定義"
   ]
  },
  {
   "cell_type": "code",
   "execution_count": 9,
   "metadata": {
    "collapsed": true
   },
   "outputs": [],
   "source": [
    "h_conv1 = tf.nn.relu(conv2d(x_image, W_conv1) + b_conv1)\n",
    "h_pool1 = max_pool_2x2(h_conv1)"
   ]
  },
  {
   "cell_type": "markdown",
   "metadata": {},
   "source": [
    "#### Second Convolutional Layer 第2層の畳込み層（Deep!）\n",
    "* 第2層では、第1層の出力チャネルが32で、この層の出力チャネル64にするので、以下のように設定する"
   ]
  },
  {
   "cell_type": "code",
   "execution_count": 10,
   "metadata": {
    "collapsed": true
   },
   "outputs": [],
   "source": [
    "W_conv2 = weight_variable([5, 5, 32, 64])\n",
    "b_conv2 = bias_variable([64])\n",
    "\n",
    "h_conv2 = tf.nn.relu(conv2d(h_pool1, W_conv2) + b_conv2)\n",
    "h_pool2 = max_pool_2x2(h_conv2)\n"
   ]
  },
  {
   "cell_type": "markdown",
   "metadata": {},
   "source": [
    "#### Densely Connected Layer \n",
    "* 全結合層\n",
    "* 普通のNNの層が最後に来る\n",
    " * だと思っている"
   ]
  },
  {
   "cell_type": "code",
   "execution_count": 11,
   "metadata": {
    "collapsed": true
   },
   "outputs": [],
   "source": [
    "W_fc1 = weight_variable([7 * 7 * 64, 1024])\n",
    "b_fc1 = bias_variable([1024])\n",
    "\n",
    "h_pool2_flat = tf.reshape(h_pool2, [-1, 7*7*64])\n",
    "h_fc1 = tf.nn.relu(tf.matmul(h_pool2_flat, W_fc1) + b_fc1)"
   ]
  },
  {
   "cell_type": "markdown",
   "metadata": {},
   "source": [
    "#### Dropout\n",
    "* 過学習防ぐための手段"
   ]
  },
  {
   "cell_type": "code",
   "execution_count": 12,
   "metadata": {
    "collapsed": true
   },
   "outputs": [],
   "source": [
    "keep_prob = tf.placeholder(\"float\")\n",
    "h_fc1_drop = tf.nn.dropout(h_fc1, keep_prob)"
   ]
  },
  {
   "cell_type": "markdown",
   "metadata": {},
   "source": [
    "##### 出力層\n",
    "* クラス分類タスクなので、softmax回帰して、出力とする"
   ]
  },
  {
   "cell_type": "code",
   "execution_count": 13,
   "metadata": {
    "collapsed": true
   },
   "outputs": [],
   "source": [
    "W_fc2 = weight_variable([1024, 10])\n",
    "b_fc2 = bias_variable([10])\n",
    "\n",
    "y_conv=tf.nn.softmax(tf.matmul(h_fc1_drop, W_fc2) + b_fc2)"
   ]
  },
  {
   "cell_type": "markdown",
   "metadata": {},
   "source": [
    "### Train and Evaluate the Model\n",
    "* ここまでで、モデルの定義ができたので、後は訓練と評価をやろう\n",
    "* 基本的には、Beginner編の単層NNモデルと同じようにやれば良い\n",
    "* ここでは、最適化計算をADAMで実装する"
   ]
  },
  {
   "cell_type": "code",
   "execution_count": 14,
   "metadata": {
    "collapsed": false,
    "scrolled": true
   },
   "outputs": [],
   "source": [
    "cross_entropy = -tf.reduce_sum(y_*tf.log(y_conv))\n",
    "train_step = tf.train.AdamOptimizer(1e-4).minimize(cross_entropy)\n",
    "correct_prediction = tf.equal(tf.argmax(y_conv,1), tf.argmax(y_,1))\n",
    "accuracy = tf.reduce_mean(tf.cast(correct_prediction, \"float\"))\n",
    "\n",
    "sess.run(tf.initialize_all_variables())\n"
   ]
  },
  {
   "cell_type": "code",
   "execution_count": 15,
   "metadata": {
    "collapsed": false,
    "scrolled": true
   },
   "outputs": [
    {
     "name": "stdout",
     "output_type": "stream",
     "text": [
      "step 0, training accuracy 0.1\n",
      "step 10, training accuracy 0.12\n",
      "step 20, training accuracy 0.38\n",
      "step 30, training accuracy 0.54\n",
      "step 40, training accuracy 0.62\n",
      "step 50, training accuracy 0.62\n",
      "step 60, training accuracy 0.7\n",
      "step 70, training accuracy 0.76\n",
      "step 80, training accuracy 0.84\n",
      "step 90, training accuracy 0.76\n",
      "step 100, training accuracy 0.8\n",
      "step 110, training accuracy 0.8\n",
      "step 120, training accuracy 0.92\n",
      "step 130, training accuracy 0.82\n",
      "step 140, training accuracy 0.88\n",
      "step 150, training accuracy 0.82\n",
      "step 160, training accuracy 0.76\n",
      "step 170, training accuracy 0.88\n",
      "step 180, training accuracy 0.86\n",
      "step 190, training accuracy 0.76\n",
      "step 200, training accuracy 0.92\n",
      "step 210, training accuracy 0.9\n",
      "step 220, training accuracy 0.84\n",
      "step 230, training accuracy 0.96\n",
      "step 240, training accuracy 0.86\n",
      "step 250, training accuracy 0.84\n",
      "step 260, training accuracy 0.92\n",
      "step 270, training accuracy 0.96\n",
      "step 280, training accuracy 0.94\n",
      "step 290, training accuracy 0.88\n",
      "step 300, training accuracy 0.82\n",
      "step 310, training accuracy 0.92\n",
      "step 320, training accuracy 0.88\n",
      "step 330, training accuracy 0.92\n",
      "step 340, training accuracy 0.98\n",
      "step 350, training accuracy 0.82\n",
      "step 360, training accuracy 0.92\n",
      "step 370, training accuracy 0.9\n",
      "step 380, training accuracy 0.98\n",
      "step 390, training accuracy 0.92\n",
      "step 400, training accuracy 1\n",
      "step 410, training accuracy 0.98\n",
      "step 420, training accuracy 0.96\n",
      "step 430, training accuracy 0.92\n",
      "step 440, training accuracy 0.96\n",
      "step 450, training accuracy 0.92\n",
      "step 460, training accuracy 0.98\n",
      "step 470, training accuracy 0.92\n",
      "step 480, training accuracy 0.96\n",
      "step 490, training accuracy 0.92\n",
      "step 500, training accuracy 0.92\n",
      "step 510, training accuracy 0.84\n",
      "step 520, training accuracy 0.9\n",
      "step 530, training accuracy 0.9\n",
      "step 540, training accuracy 0.84\n",
      "step 550, training accuracy 0.96\n",
      "step 560, training accuracy 0.98\n",
      "step 570, training accuracy 0.94\n",
      "step 580, training accuracy 0.92\n",
      "step 590, training accuracy 0.92\n",
      "step 600, training accuracy 0.98\n",
      "step 610, training accuracy 0.96\n",
      "step 620, training accuracy 0.9\n",
      "step 630, training accuracy 0.88\n",
      "step 640, training accuracy 0.94\n",
      "step 650, training accuracy 0.9\n",
      "step 660, training accuracy 0.96\n",
      "step 670, training accuracy 0.96\n",
      "step 680, training accuracy 0.98\n",
      "step 690, training accuracy 0.96\n",
      "step 700, training accuracy 0.9\n",
      "step 710, training accuracy 0.96\n",
      "step 720, training accuracy 0.96\n",
      "step 730, training accuracy 0.9\n",
      "step 740, training accuracy 0.94\n",
      "step 750, training accuracy 0.88\n",
      "step 760, training accuracy 0.9\n",
      "step 770, training accuracy 0.96\n",
      "step 780, training accuracy 0.96\n",
      "step 790, training accuracy 0.96\n",
      "step 800, training accuracy 0.92\n",
      "step 810, training accuracy 0.88\n",
      "step 820, training accuracy 0.96\n",
      "step 830, training accuracy 1\n",
      "step 840, training accuracy 0.94\n",
      "step 850, training accuracy 0.98\n",
      "step 860, training accuracy 0.94\n",
      "step 870, training accuracy 0.94\n",
      "step 880, training accuracy 0.88\n",
      "step 890, training accuracy 0.88\n",
      "step 900, training accuracy 1\n",
      "step 910, training accuracy 0.94\n",
      "step 920, training accuracy 0.98\n",
      "step 930, training accuracy 0.94\n",
      "step 940, training accuracy 0.92\n",
      "step 950, training accuracy 0.98\n",
      "step 960, training accuracy 0.92\n",
      "step 970, training accuracy 0.96\n",
      "step 980, training accuracy 0.94\n",
      "step 990, training accuracy 0.94\n",
      "step 1000, training accuracy 0.96\n",
      "step 1010, training accuracy 0.92\n",
      "step 1020, training accuracy 0.96\n",
      "step 1030, training accuracy 1\n",
      "step 1040, training accuracy 0.94\n",
      "step 1050, training accuracy 0.94\n",
      "step 1060, training accuracy 0.98\n",
      "step 1070, training accuracy 0.98\n",
      "step 1080, training accuracy 1\n",
      "step 1090, training accuracy 1\n",
      "step 1100, training accuracy 0.98\n",
      "step 1110, training accuracy 0.96\n",
      "step 1120, training accuracy 0.96\n",
      "step 1130, training accuracy 0.92\n",
      "step 1140, training accuracy 0.96\n",
      "step 1150, training accuracy 0.92\n",
      "step 1160, training accuracy 0.96\n",
      "step 1170, training accuracy 0.98\n",
      "step 1180, training accuracy 0.96\n",
      "step 1190, training accuracy 1\n",
      "step 1200, training accuracy 0.94\n",
      "step 1210, training accuracy 0.94\n",
      "step 1220, training accuracy 1\n",
      "step 1230, training accuracy 0.98\n",
      "step 1240, training accuracy 0.96\n",
      "step 1250, training accuracy 0.94\n",
      "step 1260, training accuracy 0.98\n",
      "step 1270, training accuracy 0.98\n",
      "step 1280, training accuracy 0.94\n",
      "step 1290, training accuracy 0.94\n",
      "step 1300, training accuracy 0.96\n",
      "step 1310, training accuracy 0.92\n",
      "step 1320, training accuracy 0.96\n",
      "step 1330, training accuracy 0.98\n",
      "step 1340, training accuracy 0.98\n",
      "step 1350, training accuracy 0.94\n",
      "step 1360, training accuracy 0.98\n",
      "step 1370, training accuracy 0.94\n",
      "step 1380, training accuracy 0.96\n",
      "step 1390, training accuracy 0.96\n",
      "step 1400, training accuracy 0.96\n",
      "step 1410, training accuracy 0.96\n",
      "step 1420, training accuracy 0.92\n",
      "step 1430, training accuracy 1\n",
      "step 1440, training accuracy 0.98\n",
      "step 1450, training accuracy 1\n",
      "step 1460, training accuracy 0.98\n",
      "step 1470, training accuracy 0.94\n",
      "step 1480, training accuracy 0.92\n",
      "step 1490, training accuracy 1\n",
      "step 1500, training accuracy 0.98\n",
      "step 1510, training accuracy 0.98\n",
      "step 1520, training accuracy 1\n",
      "step 1530, training accuracy 0.96\n",
      "step 1540, training accuracy 0.98\n",
      "step 1550, training accuracy 1\n",
      "step 1560, training accuracy 0.96\n",
      "step 1570, training accuracy 0.92\n",
      "step 1580, training accuracy 0.98\n",
      "step 1590, training accuracy 0.94\n",
      "step 1600, training accuracy 0.98\n",
      "step 1610, training accuracy 0.98\n",
      "step 1620, training accuracy 0.98\n",
      "step 1630, training accuracy 0.96\n",
      "step 1640, training accuracy 1\n",
      "step 1650, training accuracy 0.94\n",
      "step 1660, training accuracy 1\n",
      "step 1670, training accuracy 0.98\n",
      "step 1680, training accuracy 0.96\n",
      "step 1690, training accuracy 0.94\n",
      "step 1700, training accuracy 0.98\n",
      "step 1710, training accuracy 1\n",
      "step 1720, training accuracy 0.96\n",
      "step 1730, training accuracy 1\n",
      "step 1740, training accuracy 0.98\n",
      "step 1750, training accuracy 1\n",
      "step 1760, training accuracy 1\n",
      "step 1770, training accuracy 1\n",
      "step 1780, training accuracy 0.98\n",
      "step 1790, training accuracy 0.94\n",
      "step 1800, training accuracy 0.98\n",
      "step 1810, training accuracy 0.98\n",
      "step 1820, training accuracy 0.92\n",
      "step 1830, training accuracy 0.98\n",
      "step 1840, training accuracy 0.96\n",
      "step 1850, training accuracy 0.94\n",
      "step 1860, training accuracy 1\n",
      "step 1870, training accuracy 1\n",
      "step 1880, training accuracy 0.94\n",
      "step 1890, training accuracy 0.98\n",
      "step 1900, training accuracy 1\n",
      "step 1910, training accuracy 0.92\n",
      "step 1920, training accuracy 0.98\n",
      "step 1930, training accuracy 0.96\n",
      "step 1940, training accuracy 1\n",
      "step 1950, training accuracy 1\n",
      "step 1960, training accuracy 0.98\n",
      "step 1970, training accuracy 0.94\n",
      "step 1980, training accuracy 0.96\n",
      "step 1990, training accuracy 0.96\n"
     ]
    }
   ],
   "source": [
    "test_step = []\n",
    "train_acc  = []\n",
    "test_acc = []\n",
    "\n",
    "for i in range(2000):\n",
    "    batch = mnist.train.next_batch(50)\n",
    "    if i % 10 == 0:\n",
    "        # 訓練データでの精度\n",
    "        train_accuracy = accuracy.eval(feed_dict={x: batch[0], y_: batch[1], keep_prob: 1.0})\n",
    "        # テストデータでの精度\n",
    "        idxs = np.random.permutation(len(mnist.test.images))[:1000]\n",
    "        acc = accuracy.eval(feed_dict={x: mnist.test.images[idxs,], y_: mnist.test.labels[idxs,], keep_prob: 1.0})\n",
    "        # 評価結果の保存\n",
    "        test_step.append(i+1)\n",
    "        train_acc.append(train_accuracy)\n",
    "        test_acc.append(acc)\n",
    "        print \"step %d, training accuracy %g\" % (i, train_accuracy)\n",
    "    train_step.run(feed_dict={x: batch[0], y_: batch[1], keep_prob: 0.5})\n"
   ]
  },
  {
   "cell_type": "markdown",
   "metadata": {},
   "source": [
    "### 学習結果の確認\n",
    "#### テストデータによる認識精度"
   ]
  },
  {
   "cell_type": "code",
   "execution_count": 16,
   "metadata": {
    "collapsed": false,
    "scrolled": true
   },
   "outputs": [
    {
     "name": "stdout",
     "output_type": "stream",
     "text": [
      "test accuracy 0.964\n"
     ]
    }
   ],
   "source": [
    "idxs = np.random.permutation(len(mnist.test.images))[:1000]\n",
    "acc = accuracy.eval(feed_dict={x: mnist.test.images[idxs,], y_: mnist.test.labels[idxs,], keep_prob: 1.0})\n",
    "print \"test accuracy %g\"%acc"
   ]
  },
  {
   "cell_type": "markdown",
   "metadata": {
    "collapsed": true
   },
   "source": [
    "#### 学習曲線"
   ]
  },
  {
   "cell_type": "code",
   "execution_count": 17,
   "metadata": {
    "collapsed": false
   },
   "outputs": [
    {
     "data": {
      "text/plain": [
       "(-10, 1991)"
      ]
     },
     "execution_count": 17,
     "metadata": {},
     "output_type": "execute_result"
    },
    {
     "data": {
      "image/png": "[encoded data removed]",
      "text/plain": [
       "<matplotlib.figure.Figure at 0x7f8b1c3d7610>"
      ]
     },
     "metadata": {},
     "output_type": "display_data"
    }
   ],
   "source": [
    "plt.style.use('fivethirtyeight')\n",
    "plt.plot(test_step, train_acc, linewidth=2.0, label=\"ClosedTest\")\n",
    "plt.plot(test_step, test_acc, linewidth=2.0, label=\"OpenTest\")\n",
    "plt.legend(loc='lower right')\n",
    "plt.title(\"Accuracy Curve\")\n",
    "plt.xlim(-10, np.max(test_step))"
   ]
  },
  {
   "cell_type": "markdown",
   "metadata": {},
   "source": [
    "#### 文字認識の例"
   ]
  },
  {
   "cell_type": "code",
   "execution_count": 18,
   "metadata": {
    "collapsed": false
   },
   "outputs": [
    {
     "data": {
      "text/plain": [
       "<matplotlib.figure.Figure at 0x7f8b3d4056d0>"
      ]
     },
     "metadata": {},
     "output_type": "display_data"
    }
   ],
   "source": [
    "size = 28\n",
    "col = 5\n",
    "row = 3\n",
    "plt.figure(figsize=(20, 3))\n",
    "\n",
    "# 描画用の関数\n",
    "def draw_digit(data, n, ans, recog):\n",
    "    plt.subplot(row, col, n)\n",
    "    Z = data.reshape(size,size)   # convert from vector to 28x28 matrix\n",
    "    Z = Z[::-1,:]             # 見やすいように反転させる\n",
    "    plt.xlim(0,27)\n",
    "    plt.ylim(0,27)\n",
    "    plt.pcolor(Z)  # 指定座標(X,Y)にカラープロット(色=Z)する\n",
    "    plt.title(\"ans=%d, recog=%d\"%(ans,recog), size=8)\n",
    "    plt.gray()\n",
    "    plt.tick_params(labelbottom=\"off\")\n",
    "    plt.tick_params(labelleft=\"off\")"
   ]
  },
  {
   "cell_type": "code",
   "execution_count": 19,
   "metadata": {
    "collapsed": false
   },
   "outputs": [
    {
     "data": {
      "image/png": "[encoded data removed]",
      "text/plain": [
       "<matplotlib.figure.Figure at 0x7f8bb860d710>"
      ]
     },
     "metadata": {},
     "output_type": "display_data"
    }
   ],
   "source": [
    "N = len(mnist.test.images)\n",
    "\n",
    "cnt = 0\n",
    "for idx in np.random.permutation(N)[:col*row]:\n",
    "    rec = sess.run(tf.argmax(y_conv,1), feed_dict={x: mnist.test.images[idx:idx+1,], y_: mnist.test.labels[idx:idx+1,], keep_prob: 1.0})\n",
    "    cnt+=1\n",
    "    draw_digit(mnist.test.images[idx], cnt, np.argmax(mnist.test.labels[idx]), rec)\n",
    "plt.show()\n"
   ]
  },
  {
   "cell_type": "code",
   "execution_count": null,
   "metadata": {
    "collapsed": true
   },
   "outputs": [],
   "source": []
  }
 ],
 "metadata": {
  "kernelspec": {
   "display_name": "Python 2",
   "language": "python",
   "name": "python2"
  },
  "language_info": {
   "codemirror_mode": {
    "name": "ipython",
    "version": 2
   },
   "file_extension": ".py",
   "mimetype": "text/x-python",
   "name": "python",
   "nbconvert_exporter": "python",
   "pygments_lexer": "ipython2",
   "version": "2.7.10"
  }
 },
 "nbformat": 4,
 "nbformat_minor": 0
}

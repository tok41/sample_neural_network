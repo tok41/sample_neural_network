{
 "cells": [
  {
   "cell_type": "markdown",
   "metadata": {},
   "source": [
    "# TensowFlow のチュートリアル\n",
    "## For ML Beginner\n",
    "参考\n",
    "* http://qiita.com/haminiku/items/36982ae65a770565458d\n",
    "* http://www.tensorflow.org/tutorials/mnist/beginners/index.html\n",
    " * official"
   ]
  },
  {
   "cell_type": "markdown",
   "metadata": {},
   "source": [
    "## 準備\n",
    "* 事前にMNISTのデータを取得するためのclassを作っておく必要がある\n",
    "* チュートリアルにあるし、GoogleのGitからDL出来るかも\n",
    " * GoogleGitがよくわからなかったから、ブラウザで開いて、テキストをコピペしてきたけど\n",
    "* https://tensorflow.googlesource.com/tensorflow/+/master/tensorflow/g3doc/tutorials/mnist/input_data.py\n",
    " * コードは↑\n",
    " * input_data.py というファイル名で保存\n",
    "\n",
    "### 確認\n",
    "* 上記のクラスの動作を確認する\n",
    "\n",
    "```\n",
    "$ python\n",
    "\n",
    "> import input_data\n",
    "> mnist = input_data.read_data_sets(\"MNIST_data/\", one_hot=True)\n",
    "```\n"
   ]
  },
  {
   "cell_type": "markdown",
   "metadata": {},
   "source": [
    "## チュートリアルをやってみる"
   ]
  },
  {
   "cell_type": "markdown",
   "metadata": {},
   "source": [
    "### パッケージのインポート\n",
    "まずは、必要なパッケージをインポートする。\n",
    "\n",
    "事前にtensorflowのインストールと確認は済ませておくように。"
   ]
  },
  {
   "cell_type": "code",
   "execution_count": 1,
   "metadata": {
    "collapsed": false
   },
   "outputs": [],
   "source": [
    "from __future__ import absolute_import, unicode_literals\n",
    "import input_data\n",
    "import tensorflow as tf\n",
    "\n",
    "## 学習結果の描画に使う\n",
    "import numpy as np\n",
    "import matplotlib.pyplot as plt\n",
    "%matplotlib inline"
   ]
  },
  {
   "cell_type": "markdown",
   "metadata": {
    "collapsed": true
   },
   "source": [
    "### MNISTデータのダウンロード\n",
    "* ↑で作ったclassを使って、データをダウンロードする\n",
    "* 実行ディレクトリに「MNIST_data」というディレクトリができて、その中にデータが格納される"
   ]
  },
  {
   "cell_type": "code",
   "execution_count": 2,
   "metadata": {
    "collapsed": false
   },
   "outputs": [
    {
     "name": "stdout",
     "output_type": "stream",
     "text": [
      "Extracting MNIST_data/train-images-idx3-ubyte.gz\n",
      "Extracting MNIST_data/train-labels-idx1-ubyte.gz\n",
      "Extracting MNIST_data/t10k-images-idx3-ubyte.gz\n",
      "Extracting MNIST_data/t10k-labels-idx1-ubyte.gz\n"
     ]
    }
   ],
   "source": [
    "mnist = input_data.read_data_sets(\"MNIST_data/\", one_hot=True)"
   ]
  },
  {
   "cell_type": "markdown",
   "metadata": {},
   "source": [
    "### MNISTデータを確認する\n",
    "* 落としてきたデータを確認してみる\n",
    "* 手書き文字なので、けっこうひどいものが含まれてるのが確認できる"
   ]
  },
  {
   "cell_type": "code",
   "execution_count": 3,
   "metadata": {
    "collapsed": false
   },
   "outputs": [
    {
     "data": {
      "text/plain": [
       "<matplotlib.figure.Figure at 0x7f8f981d3750>"
      ]
     },
     "metadata": {},
     "output_type": "display_data"
    }
   ],
   "source": [
    "size = 28\n",
    "col = 5\n",
    "row = 3\n",
    "plt.figure(figsize=(20, 3))\n",
    "\n",
    "# 描画用の関数\n",
    "def draw_digit(data, n, ans, recog):\n",
    "    plt.subplot(row, col, n)\n",
    "    Z = data.reshape(size,size)   # convert from vector to 28x28 matrix\n",
    "    Z = Z[::-1,:]             # 見やすいように反転させる\n",
    "    plt.xlim(0,27)\n",
    "    plt.ylim(0,27)\n",
    "    plt.pcolor(Z)  # 指定座標(X,Y)にカラープロット(色=Z)する\n",
    "    plt.title(\"ans=%d, recog=%d\"%(ans,recog), size=8)\n",
    "    plt.gray()\n",
    "    plt.tick_params(labelbottom=\"off\")\n",
    "    plt.tick_params(labelleft=\"off\")"
   ]
  },
  {
   "cell_type": "code",
   "execution_count": 4,
   "metadata": {
    "collapsed": false,
    "scrolled": false
   },
   "outputs": [
    {
     "data": {
      "image/png": "[encoded data removed]",
      "text/plain": [
       "<matplotlib.figure.Figure at 0x7f8f9a2260d0>"
      ]
     },
     "metadata": {},
     "output_type": "display_data"
    }
   ],
   "source": [
    "plt.style.use('fivethirtyeight')\n",
    "N = len(mnist.train.images)\n",
    "cnt = 0\n",
    "for idx in np.random.permutation(N)[:col*row]:\n",
    "    cnt+=1\n",
    "    draw_digit(mnist.train.images[idx], cnt, np.argmax(mnist.train.labels[idx]), 0)\n",
    "plt.show()"
   ]
  },
  {
   "cell_type": "markdown",
   "metadata": {},
   "source": [
    "上記のデータを学習データとして、文字認識するためのモデルを定義し、学習させて行こう。"
   ]
  },
  {
   "cell_type": "markdown",
   "metadata": {},
   "source": [
    "### モデルの定義\n",
    "* ここでは、単純なソフトマックス回帰を扱う\n",
    " * つまり、deepでもないし、Neural-Networでもない（単層NNと等価ではある）\n",
    "* 入力は28×28ピクセルの画像データ（784次元のベクトル）\n",
    " * 各ピクセルは0~1に正規化されている\n",
    "* 出力は、0~9の各文字の判別確率\n",
    " * softmax関数で確率化している\n"
   ]
  },
  {
   "cell_type": "code",
   "execution_count": 5,
   "metadata": {
    "collapsed": true
   },
   "outputs": [],
   "source": [
    "## 入力\n",
    "x = tf.placeholder(\"float\", [None, 784])\n",
    "### Noneはサイズを決めないということ\n",
    "## 重み\n",
    "W = tf.Variable(tf.zeros([784,10]))\n",
    "## バイアス\n",
    "b = tf.Variable(tf.zeros([10]))\n",
    "## 出力\n",
    "y = tf.nn.softmax(tf.matmul(x,W) + b)"
   ]
  },
  {
   "cell_type": "markdown",
   "metadata": {},
   "source": [
    "### 訓練\n",
    "#### コスト関数\n",
    "* コスト関数を決めないといけない\n",
    " * 普通にcross-entropyを使う（下記）\n",
    "$$ H_{y'} (y) = - \\sum_{i} y'_i \\log(y_i) $$\n",
    " $y$:推定確率分布、$y'$:真の確率分布"
   ]
  },
  {
   "cell_type": "code",
   "execution_count": 6,
   "metadata": {
    "collapsed": true
   },
   "outputs": [],
   "source": [
    "# まずは真の分布を格納するための箱を用意する\n",
    "y_ = tf.placeholder(\"float\", [None,10])\n",
    "# cross-entropyを定義する\n",
    "cross_entropy = - tf.reduce_sum(y_*tf.log(y))"
   ]
  },
  {
   "cell_type": "markdown",
   "metadata": {},
   "source": [
    "####  backpropagation algorithmの設定"
   ]
  },
  {
   "cell_type": "code",
   "execution_count": 7,
   "metadata": {
    "collapsed": true
   },
   "outputs": [],
   "source": [
    "# 勾配法で最適化する\n",
    "# 学習係数は0.01\n",
    "train_step = tf.train.GradientDescentOptimizer(0.01).minimize(cross_entropy)"
   ]
  },
  {
   "cell_type": "markdown",
   "metadata": {},
   "source": [
    "#### 学習変数の初期化"
   ]
  },
  {
   "cell_type": "code",
   "execution_count": 8,
   "metadata": {
    "collapsed": true
   },
   "outputs": [],
   "source": [
    "init = tf.initialize_all_variables()"
   ]
  },
  {
   "cell_type": "markdown",
   "metadata": {},
   "source": [
    "#### セッションの初期化\n",
    "* ちょっと時間かかる"
   ]
  },
  {
   "cell_type": "code",
   "execution_count": 33,
   "metadata": {
    "collapsed": true
   },
   "outputs": [],
   "source": [
    "sess = tf.Session()\n",
    "sess.run(init)"
   ]
  },
  {
   "cell_type": "markdown",
   "metadata": {},
   "source": [
    "#### 1000回学習させる\n",
    "* ミニバッチのサイズは100\n",
    "* 確率的勾配法（SGD）で学習する\n",
    "* 学習回数は1000回\n",
    "\n",
    "* 【メモ】\n",
    " * 計算途中のaccuracyは出せないのかな?訓練データに対するaccuracyは別に計算しないといけない?"
   ]
  },
  {
   "cell_type": "code",
   "execution_count": 27,
   "metadata": {
    "collapsed": false
   },
   "outputs": [
    {
     "name": "stdout",
     "output_type": "stream",
     "text": [
      "initial_accuracy = 0.098\n"
     ]
    }
   ],
   "source": [
    "correct_prediction = tf.equal(tf.argmax(y,1), tf.argmax(y_,1))\n",
    "accuracy = tf.reduce_mean(tf.cast(correct_prediction, \"float\"))\n",
    "\n",
    "test_step = []\n",
    "test_acc  = []\n",
    "sess.run(init)\n",
    "\n",
    "train_accuracy = sess.run(accuracy, feed_dict={x: mnist.test.images, y_: mnist.test.labels})\n",
    "print \"initial_accuracy = %s\"%train_accuracy # 初期の精度は0.1くらいになる(10個の数字をランダムに答えるのと一緒だから)\n",
    "test_step.append(0)\n",
    "test_acc.append(train_accuracy)\n",
    "\n",
    "# 学習のループを回す\n",
    "for i in range(1000):\n",
    "    batch_xs, batch_ys = mnist.train.next_batch(10)\n",
    "    if i%10 == 0:\n",
    "        idxs = np.random.permutation(len(mnist.test.images))[:1000] # 1000枚のテスト画像を使って精度を計算する\n",
    "        train_accuracy = sess.run(accuracy, feed_dict={x: mnist.test.images[idxs,], y_: mnist.test.labels[idxs,]})\n",
    "        test_step.append(i+1)\n",
    "        test_acc.append(train_accuracy)\n",
    "    sess.run(train_step, feed_dict={x: batch_xs, y_: batch_ys})"
   ]
  },
  {
   "cell_type": "markdown",
   "metadata": {},
   "source": [
    "#### 結果の表示\n",
    "* tf.argmax(y,1) : 確率が最大のラベルを返す\n",
    "* tf.equal : 引数が一致するかを確認する関数\n"
   ]
  },
  {
   "cell_type": "code",
   "execution_count": 12,
   "metadata": {
    "collapsed": false
   },
   "outputs": [
    {
     "name": "stdout",
     "output_type": "stream",
     "text": [
      "0.8945\n"
     ]
    }
   ],
   "source": [
    "# 正解数のカウント\n",
    "correct_prediction = tf.equal(tf.argmax(y,1), tf.argmax(y_,1))\n",
    "# tf.equalの戻り値はboolean型なので、キャストする\n",
    "accuracy = tf.reduce_mean(tf.cast(correct_prediction, \"float\"))\n",
    "# testデータに対する正解率\n",
    "print sess.run(accuracy, feed_dict={x: mnist.test.images, y_: mnist.test.labels})"
   ]
  },
  {
   "cell_type": "markdown",
   "metadata": {},
   "source": [
    "#### 精度の変化を確認\n",
    "* 学習ステップ毎の精度をグラフにして表示する"
   ]
  },
  {
   "cell_type": "code",
   "execution_count": 32,
   "metadata": {
    "collapsed": false
   },
   "outputs": [
    {
     "data": {
      "text/plain": [
       "(-10, 991)"
      ]
     },
     "execution_count": 32,
     "metadata": {},
     "output_type": "execute_result"
    },
    {
     "data": {
      "image/png": "[encoded data removed]",
      "text/plain": [
       "<matplotlib.figure.Figure at 0x7f8f1f8a9f50>"
      ]
     },
     "metadata": {},
     "output_type": "display_data"
    }
   ],
   "source": [
    "plt.plot(test_step, test_acc)\n",
    "plt.title(\"Accuracy of TestDataSet\")\n",
    "plt.xlim(-10, np.max(test_step))"
   ]
  },
  {
   "cell_type": "markdown",
   "metadata": {
    "collapsed": true
   },
   "source": [
    "### 学習結果の確認\n",
    "#### 学習結果として得られたモデルを使って、文字認識させてみる\n",
    "\n",
    "* テストデータを一つずつ入力して、結果を返すってのをもっとスマートに出来ないもんか？"
   ]
  },
  {
   "cell_type": "code",
   "execution_count": 13,
   "metadata": {
    "collapsed": false
   },
   "outputs": [
    {
     "data": {
      "image/png": "[encoded data removed]",
      "text/plain": [
       "<matplotlib.figure.Figure at 0x7f8f9a2260d0>"
      ]
     },
     "metadata": {},
     "output_type": "display_data"
    }
   ],
   "source": [
    "plt.style.use('fivethirtyeight')\n",
    "N = len(mnist.test.images)\n",
    "cnt = 0\n",
    "for idx in np.random.permutation(N)[:col*row]:\n",
    "    rec = sess.run(tf.argmax(y,1), feed_dict={x: mnist.test.images[idx:idx+1,], y_: mnist.test.labels[idx:idx+1,]})\n",
    "    cnt+=1\n",
    "    draw_digit(mnist.test.images[idx], cnt, np.argmax(mnist.test.labels[idx]), rec)\n",
    "plt.show()\n"
   ]
  },
  {
   "cell_type": "code",
   "execution_count": null,
   "metadata": {
    "collapsed": true
   },
   "outputs": [],
   "source": []
  }
 ],
 "metadata": {
  "kernelspec": {
   "display_name": "Python 2",
   "language": "python",
   "name": "python2"
  },
  "language_info": {
   "codemirror_mode": {
    "name": "ipython",
    "version": 2
   },
   "file_extension": ".py",
   "mimetype": "text/x-python",
   "name": "python",
   "nbconvert_exporter": "python",
   "pygments_lexer": "ipython2",
   "version": "2.7.10"
  }
 },
 "nbformat": 4,
 "nbformat_minor": 0
}
